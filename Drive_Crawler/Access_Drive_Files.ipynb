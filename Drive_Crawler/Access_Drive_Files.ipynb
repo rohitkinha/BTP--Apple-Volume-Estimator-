{
 "cells": [
  {
   "cell_type": "code",
   "execution_count": null,
   "id": "792aa383-22fc-4b38-85f5-8d2114153b86",
   "metadata": {},
   "outputs": [],
   "source": [
    "import pandas as pd\n",
    "from google.oauth2 import service_account\n",
    "from googleapiclient.discovery import build\n",
    "from googleapiclient.http import MediaIoBaseDownload\n",
    "from googleapiclient.http import MediaFileUpload\n",
    "import io\n",
    "from googleapiclient.errors import HttpError\n",
    "from dotenv import load_dotenv\n",
    "import os"
   ]
  },
  {
   "cell_type": "code",
   "execution_count": 2,
   "id": "15f4db27-179c-427e-a5fb-a7169c9fa903",
   "metadata": {},
   "outputs": [],
   "source": [
    "# Load environment variables from .env file\n",
    "load_dotenv()\n",
    "\n",
    "key_file_name = os.getenv('KEY_FILE_NAME')\n",
    "folder_id = os.getenv('FOLDER_ID')"
   ]
  },
  {
   "cell_type": "code",
   "execution_count": 3,
   "id": "7cbd15e5-add5-4c40-9847-a909fef1a643",
   "metadata": {},
   "outputs": [],
   "source": [
    "# It controls the access of the application. Currently it allows read and write both\n",
    "scope = ['https://www.googleapis.com/auth/drive']\n",
    "\n",
    "current_directory = os.getcwd()\n",
    "service_account_json_key = os.path.join(current_directory, key_file_name)\n",
    "\n",
    "credentials = service_account.Credentials.from_service_account_file(\n",
    "                              filename=service_account_json_key, \n",
    "                              scopes=scope)\n",
    "\n",
    "service = build('drive', 'v3', credentials=credentials)"
   ]
  },
  {
   "cell_type": "code",
   "execution_count": null,
   "id": "715eed6f-cdcd-4a35-9b7c-3cc4fc509fdb",
   "metadata": {},
   "outputs": [],
   "source": [
    "page_token = None\n",
    "\n",
    "# Google drive can serve upto 1000 files in one request, page solves this issue by accessing the next in the order\n",
    "while True:\n",
    "    results = service.files().list(\n",
    "        pageSize=1000,  \n",
    "        fields=\"nextPageToken, files(id, name)\",\n",
    "        q=f\"'{folder_id}' in parents\",\n",
    "        pageToken=page_token\n",
    "    ).execute()\n",
    "\n",
    "    files = results.get('files', [])\n",
    "    \n",
    "    if not files:\n",
    "        print(f'No more files found in folder with ID: {folder_id}')\n",
    "        break\n",
    "\n",
    "    # Print the name of files in the folder\n",
    "    for file in files:\n",
    "        print(file)\n",
    "\n",
    "    # Get the next page token\n",
    "    page_token = results.get('nextPageToken')\n",
    "\n",
    "    if not page_token:\n",
    "        break"
   ]
  }
 ],
 "metadata": {
  "kernelspec": {
   "display_name": "Python 3 (ipykernel)",
   "language": "python",
   "name": "python3"
  },
  "language_info": {
   "codemirror_mode": {
    "name": "ipython",
    "version": 3
   },
   "file_extension": ".py",
   "mimetype": "text/x-python",
   "name": "python",
   "nbconvert_exporter": "python",
   "pygments_lexer": "ipython3",
   "version": "3.10.12"
  }
 },
 "nbformat": 4,
 "nbformat_minor": 5
}
