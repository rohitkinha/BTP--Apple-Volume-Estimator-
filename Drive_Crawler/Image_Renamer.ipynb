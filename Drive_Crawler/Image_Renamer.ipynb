{
 "cells": [
  {
   "cell_type": "code",
   "execution_count": null,
   "id": "2c046b07-7f14-48f1-a15d-1588d9fedc75",
   "metadata": {},
   "outputs": [],
   "source": [
    "import pandas as pd\n",
    "from google.oauth2 import service_account\n",
    "from googleapiclient.discovery import build\n",
    "from googleapiclient.http import MediaIoBaseDownload\n",
    "from googleapiclient.http import MediaFileUpload\n",
    "import io\n",
    "from googleapiclient.errors import HttpError\n",
    "from dotenv import load_dotenv\n",
    "import os"
   ]
  },
  {
   "cell_type": "code",
   "execution_count": 2,
   "id": "aa815725-78ce-4667-8240-658f6b592985",
   "metadata": {},
   "outputs": [],
   "source": [
    "# Load environment variables from .env file\n",
    "load_dotenv()\n",
    "\n",
    "key_file_name = os.getenv('KEY_FILE_NAME')\n",
    "folder_id = os.getenv('FOLDER_ID')\n",
    "my_folder_id = os.getenv('MY_FOLDER_ID')"
   ]
  },
  {
   "cell_type": "code",
   "execution_count": 3,
   "id": "974b1ef9-5431-426b-8e25-6a0e12b484df",
   "metadata": {},
   "outputs": [],
   "source": [
    "# It controls the access of the application. Currently it allows read and write both\n",
    "scope = ['https://www.googleapis.com/auth/drive']\n",
    "\n",
    "current_directory = os.getcwd()\n",
    "service_account_json_key = os.path.join(current_directory, key_file_name)\n",
    "\n",
    "credentials = service_account.Credentials.from_service_account_file(\n",
    "                              filename=service_account_json_key, \n",
    "                              scopes=scope)\n",
    "\n",
    "service = build('drive', 'v3', credentials=credentials)"
   ]
  },
  {
   "cell_type": "code",
   "execution_count": 4,
   "id": "10b7c8dd-27e1-4a4b-bc6e-dc9dd57c79ee",
   "metadata": {},
   "outputs": [],
   "source": [
    "# Takes file_id as input and puts it in example.jpg in the current directory\n",
    "def download_image(file_id):\n",
    "    request = service.files().get_media(fileId = file_id)\n",
    "    download_file_path = 'temp.jpg'\n",
    "    fh = io.FileIO(download_file_path, mode='wb')\n",
    "    downloader = MediaIoBaseDownload(fh, request)\n",
    "    \n",
    "    done = False\n",
    "    while done is False:\n",
    "        status, done = downloader.next_chunk()\n",
    "        print(f\"Download {int(status.progress() * 100)}%.\")"
   ]
  },
  {
   "cell_type": "code",
   "execution_count": 5,
   "id": "60fd9187-d6fe-4f74-841a-f2441d08d1fc",
   "metadata": {},
   "outputs": [],
   "source": [
    "# It takes the name of file to be uploaded on drive and path of image on local computer\n",
    "def upload_image(file_name_on_drive, download_image_path):\n",
    "    file_metadata = {'name': file_name_on_drive}  \n",
    "    media = MediaFileUpload(download_image_path, mimetype='image/jpeg')\n",
    "    file_metadata['parents'] = [my_folder_id]\n",
    "    file = service.files().create(body=file_metadata, media_body=media, fields='id').execute()\n",
    "    print('File ID:', file.get('id'))"
   ]
  },
  {
   "cell_type": "code",
   "execution_count": 6,
   "id": "c224f337-c3c6-4c95-897a-c70c282ae017",
   "metadata": {},
   "outputs": [],
   "source": [
    "# Takes the path of file and deletes the image\n",
    "def delete_image(file_path):\n",
    "    try:\n",
    "        os.remove(file_path)\n",
    "        print(f\"Filze '{file_path deleted successfully.\")\n",
    "    except FileNotFoundError:\n",
    "        print(f\"File '{file_path}' not found.\")\n",
    "    except PermissionError:\n",
    "        print(f\"Permission denied to delete file '{file_path}'.\")\n",
    "    except Exception as e:\n",
    "        print(f\"An error occurred: {e}\")\n"
   ]
  },
  {
   "cell_type": "code",
   "execution_count": 7,
   "id": "c30a7ada-924f-4566-9008-4ebe5d64f1f9",
   "metadata": {},
   "outputs": [],
   "source": [
    "# Reture the numerical part of image name\n",
    "def convert_to_number(string):\n",
    "    for i, char in enumerate(string):\n",
    "        if not char.isdigit():\n",
    "            return int(string[:i])\n",
    "    return int(string)"
   ]
  },
  {
   "cell_type": "code",
   "execution_count": null,
   "id": "c7635b31-d0be-4e90-8aca-b5b30fa02149",
   "metadata": {},
   "outputs": [],
   "source": [
    "page_token = None\n",
    "# Google drive can serve upto 1000 files in one request, page solves this issue by accessing the next in the order\n",
    "while True:\n",
    "    results = service.files().list(\n",
    "        pageSize=1000,  \n",
    "        fields=\"nextPageToken, files(id, name)\",\n",
    "        q=f\"'{folder_id}' in parents\",\n",
    "        pageToken=page_token\n",
    "    ).execute()\n",
    "\n",
    "    files = results.get('files', [])\n",
    "    \n",
    "    if not files:\n",
    "        print(f'No more files found in folder with ID: {folder_id}')\n",
    "        break\n",
    "\n",
    "    download_image_path = image_path = os.path.join(current_directory, 'temp.jpg') \n",
    "    apple_counter_map = {}\n",
    "\n",
    "    mapping = {i: chr(i + ord('a')) for i in range(26)}\n",
    "    \n",
    "    # Print the name of files in the folder\n",
    "    for file in files:\n",
    "        image_id = file['id']\n",
    "        image_name = file['name']\n",
    "        apple_no = convert_to_number(image_name)\n",
    "        if apple_counter_map.get(apple_no) == None:\n",
    "            apple_counter_map[apple_no] = 0\n",
    "        else:\n",
    "            apple_counter_map[apple_no] += 1\n",
    "        download_image(image_id)\n",
    "        file_name_on_drive = str(apple_no) + mapping[apple_counter_map[apple_no]] +'.jpg'\n",
    "        upload_image(file_name_on_drive, download_image_path)\n",
    "        delete_image(download_image_path)\n",
    "        \n",
    "\n",
    "    # Get the next page token\n",
    "    page_token = results.get('nextPageToken')\n",
    "\n",
    "    if not page_token:\n",
    "        break"
   ]
  }
 ],
 "metadata": {
  "kernelspec": {
   "display_name": "Python 3 (ipykernel)",
   "language": "python",
   "name": "python3"
  },
  "language_info": {
   "codemirror_mode": {
    "name": "ipython",
    "version": 3
   },
   "file_extension": ".py",
   "mimetype": "text/x-python",
   "name": "python",
   "nbconvert_exporter": "python",
   "pygments_lexer": "ipython3",
   "version": "3.10.12"
  }
 },
 "nbformat": 4,
 "nbformat_minor": 5
}
