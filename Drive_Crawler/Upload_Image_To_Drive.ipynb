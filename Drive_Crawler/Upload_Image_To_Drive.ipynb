{
 "cells": [
  {
   "cell_type": "code",
   "execution_count": 60,
   "id": "83a903ac-00c1-428a-9665-bba8b7284cdb",
   "metadata": {},
   "outputs": [],
   "source": [
    "import pandas as pd\n",
    "from google.oauth2 import service_account\n",
    "from googleapiclient.discovery import build\n",
    "from googleapiclient.http import MediaIoBaseDownload\n",
    "from googleapiclient.http import MediaFileUpload\n",
    "import io\n",
    "from googleapiclient.errors import HttpError\n",
    "from dotenv import load_dotenv\n",
    "import os"
   ]
  },
  {
   "cell_type": "code",
   "execution_count": 61,
   "id": "c1b85f3a-dd6c-4fdd-8802-7ed47b695c68",
   "metadata": {},
   "outputs": [],
   "source": [
    "# Load environment variables from .env file\n",
    "load_dotenv()\n",
    "\n",
    "key_file_name = os.getenv('KEY_FILE_NAME')\n",
    "folder_id = os.getenv('MY_FOLDER_ID')\n",
    "image_path_to_be_uploaded = os.getenv('IMAGE_PATH_TO_BE_UPLOADED')"
   ]
  },
  {
   "cell_type": "code",
   "execution_count": 62,
   "id": "e17f48b6-c22f-49f4-aa8b-35cdae662e38",
   "metadata": {},
   "outputs": [],
   "source": [
    "scope = ['https://www.googleapis.com/auth/drive']\n",
    "\n",
    "current_directory = os.getcwd()\n",
    "service_account_json_key = os.path.join(current_directory, key_file_name)\n",
    "\n",
    "credentials = service_account.Credentials.from_service_account_file(\n",
    "                              filename=service_account_json_key, \n",
    "                              scopes=scope)\n",
    "\n",
    "service = build('drive', 'v3', credentials=credentials)"
   ]
  },
  {
   "cell_type": "code",
   "execution_count": 63,
   "id": "d6863b99-3c15-4176-9056-ef2cc8edecad",
   "metadata": {},
   "outputs": [],
   "source": [
    "image_path = os.path.join(current_directory, dataset_folder)"
   ]
  },
  {
   "cell_type": "code",
   "execution_count": 64,
   "id": "2d348a2d-1668-4102-bed7-f8ff4d86a2c7",
   "metadata": {},
   "outputs": [
    {
     "name": "stdout",
     "output_type": "stream",
     "text": [
      "File ID: 1EGZ0NGLldMjhGcCuhONLDqT2KFNzwySi\n"
     ]
    }
   ],
   "source": [
    "image_name = 'Signature.jpg'\n",
    "file_metadata = {'name': image_name}  \n",
    "media = MediaFileUpload(image_path_to_be_uploaded, mimetype='image/jpeg')\n",
    "file_metadata['parents'] = [folder_id]\n",
    "file = service.files().create(body=file_metadata, media_body=media, fields='id').execute()\n",
    "print('File ID:', file.get('id'))"
   ]
  }
 ],
 "metadata": {
  "kernelspec": {
   "display_name": "Python 3 (ipykernel)",
   "language": "python",
   "name": "python3"
  },
  "language_info": {
   "codemirror_mode": {
    "name": "ipython",
    "version": 3
   },
   "file_extension": ".py",
   "mimetype": "text/x-python",
   "name": "python",
   "nbconvert_exporter": "python",
   "pygments_lexer": "ipython3",
   "version": "3.10.12"
  }
 },
 "nbformat": 4,
 "nbformat_minor": 5
}
