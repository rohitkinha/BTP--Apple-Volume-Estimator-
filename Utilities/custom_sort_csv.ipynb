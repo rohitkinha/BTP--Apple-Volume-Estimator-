{
 "cells": [
  {
   "cell_type": "code",
   "execution_count": 8,
   "id": "a7369f49-dc88-45a7-a742-be8c5ac85d7b",
   "metadata": {},
   "outputs": [],
   "source": [
    "import pandas as pd\n",
    "import re\n",
    "\n",
    "df = pd.read_csv('../Data/fitted_ellipse_parameter.csv')\n",
    "\n",
    "def custom_sort(s):\n",
    "    parts = re.split('([0-9]+)', s)\n",
    "    parts[1::2] = map(int, parts[1::2])\n",
    "    return parts\n",
    "\n",
    "sorted_df = df.iloc[df[df.columns[0]].apply(lambda x: natural_sort_key(x)).sort_values().index]\n",
    "\n",
    "sorted_df.to_csv('../Data/fitted_ellipse_parameter.csv', index=False)"
   ]
  }
 ],
 "metadata": {
  "kernelspec": {
   "display_name": "Python 3 (ipykernel)",
   "language": "python",
   "name": "python3"
  },
  "language_info": {
   "codemirror_mode": {
    "name": "ipython",
    "version": 3
   },
   "file_extension": ".py",
   "mimetype": "text/x-python",
   "name": "python",
   "nbconvert_exporter": "python",
   "pygments_lexer": "ipython3",
   "version": "3.10.12"
  }
 },
 "nbformat": 4,
 "nbformat_minor": 5
}
