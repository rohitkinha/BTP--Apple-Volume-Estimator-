{
 "cells": [
  {
   "cell_type": "code",
   "execution_count": 1,
   "metadata": {},
   "outputs": [],
   "source": [
    "import pandas as pd\n",
    "scaling_factor =  0.6198153660113525\n",
    "\n",
    "df = pd.read_csv(\"avg_predicted_volume_by_view.csv\")\n",
    "\n",
    "df['scaled_predicted_volume'] = df['predicted_volume'] * scaling_factor\n",
    "\n",
    "df.to_csv(\"avg_predicted_volume_by_view_scaled.csv\", index=False)\n"
   ]
  }
 ],
 "metadata": {
  "kernelspec": {
   "display_name": "Python 3",
   "language": "python",
   "name": "python3"
  },
  "language_info": {
   "codemirror_mode": {
    "name": "ipython",
    "version": 3
   },
   "file_extension": ".py",
   "mimetype": "text/x-python",
   "name": "python",
   "nbconvert_exporter": "python",
   "pygments_lexer": "ipython3",
   "version": "3.12.1"
  }
 },
 "nbformat": 4,
 "nbformat_minor": 2
}
