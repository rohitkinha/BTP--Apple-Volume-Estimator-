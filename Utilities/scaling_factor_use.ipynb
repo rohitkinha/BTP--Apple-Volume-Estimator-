{
 "cells": [
  {
   "cell_type": "code",
   "execution_count": 35,
   "metadata": {},
   "outputs": [],
   "source": [
    "import pandas as pd\n",
    "scaling_factor =  0.62\n",
    "\n",
    "df = pd.read_csv(\"../Data/avg_predicted_volume_by_view.csv\")\n",
    "\n",
    "df['scaled_predicted_volume'] = df['predicted_volume'] * scaling_factor + 10\n",
    "\n",
    "df.to_csv(\"../Data/avg_predicted_volume_by_view_scaled.csv\", index=False)\n",
    "\n",
    "# Load the entire dataset (replace 'your_dataset.csv' with the actual file path)\n",
    "df = pd.read_csv('../Data/avg_predicted_volume_by_view_scaled.csv')\n",
    "\n",
    "# Extract the integer part of the apple labels\n",
    "df['apple_number'] = df['apple_integer'].astype(int)\n",
    "\n",
    "# Pivot the DataFrame to transform it into the desired format\n",
    "new_df = df.pivot(index='apple_number', columns='view', values='scaled_predicted_volume')\n",
    "\n",
    "# Rename the columns for better clarity\n",
    "new_df.columns = ['s', 't', 'b']\n",
    "\n",
    "# Reset the index to get apple_number as a column\n",
    "new_df.reset_index(inplace=True)\n",
    "\n",
    "# Fill NaN values with 0 (if any)\n",
    "new_df.fillna(0, inplace=True)\n",
    "\n",
    "# Display the new dataset\n",
    "new_df.to_csv('../Data/scaled_predicted_volume_by_view.csv', index=False)\n"
   ]
  },
  {
   "cell_type": "code",
   "execution_count": null,
   "metadata": {},
   "outputs": [],
   "source": []
  }
 ],
 "metadata": {
  "kernelspec": {
   "display_name": "Python 3",
   "language": "python",
   "name": "python3"
  },
  "language_info": {
   "codemirror_mode": {
    "name": "ipython",
    "version": 3
   },
   "file_extension": ".py",
   "mimetype": "text/x-python",
   "name": "python",
   "nbconvert_exporter": "python",
   "pygments_lexer": "ipython3",
   "version": "3.12.1"
  }
 },
 "nbformat": 4,
 "nbformat_minor": 2
}
