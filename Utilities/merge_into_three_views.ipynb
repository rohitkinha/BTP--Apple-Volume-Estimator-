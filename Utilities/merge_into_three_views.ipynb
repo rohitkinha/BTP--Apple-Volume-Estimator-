{
 "cells": [
  {
   "cell_type": "code",
   "execution_count": 2,
   "metadata": {},
   "outputs": [],
   "source": [
    "import pandas as pd\n",
    "\n",
    "df = pd.read_csv(\"../Data/predicted_with_view.csv\")\n",
    "pivoted_df = df.pivot_table(index=df['apple_label'].str.extract(r'(\\d+)')[0],\n",
    "                            columns='view',\n",
    "                            values='predicted_volume',\n",
    "                            aggfunc='mean')\n",
    "pivoted_df.reset_index(inplace=True)\n",
    "pivoted_df.columns.name = None\n",
    "pivoted_df.columns = ['apple_integer', 'b', 's', 't']\n",
    "pivoted_df.to_csv(\"../Data/predicted_volume_by_view.csv\", index=False)\n"
   ]
  },
  {
   "cell_type": "code",
   "execution_count": 3,
   "metadata": {},
   "outputs": [],
   "source": [
    "df = pd.read_csv(\"../Data/predicted_with_view.csv\")\n",
    "df['apple_integer'] = df['apple_label'].str.extract(r'(\\d+)').astype(int)\n",
    "avg_predicted_volume_df = df.groupby(['apple_integer', 'view'])['predicted_volume'].mean().reset_index()\n",
    "avg_predicted_volume_df.to_csv(\"../Data/avg_predicted_volume_by_view.csv\", index=False)\n"
   ]
  },
  {
   "cell_type": "code",
   "execution_count": null,
   "metadata": {},
   "outputs": [],
   "source": []
  }
 ],
 "metadata": {
  "kernelspec": {
   "display_name": "Python 3",
   "language": "python",
   "name": "python3"
  },
  "language_info": {
   "codemirror_mode": {
    "name": "ipython",
    "version": 3
   },
   "file_extension": ".py",
   "mimetype": "text/x-python",
   "name": "python",
   "nbconvert_exporter": "python",
   "pygments_lexer": "ipython3",
   "version": "3.12.1"
  }
 },
 "nbformat": 4,
 "nbformat_minor": 2
}
