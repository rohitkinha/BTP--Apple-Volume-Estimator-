{
 "cells": [
  {
   "cell_type": "code",
   "execution_count": 3,
   "id": "c69c914b-a16b-4867-bf55-76c0522da1d1",
   "metadata": {},
   "outputs": [],
   "source": [
    "\n",
    "import os\n",
    "import pandas as pd\n",
    "from PIL import Image\n",
    "from dotenv import load_dotenv\n",
    "from google.oauth2 import service_account\n",
    "from googleapiclient.discovery import build\n",
    "from google_auth_oauthlib.flow import InstalledAppFlow\n",
    "from google.auth.transport.requests import Request"
   ]
  },
  {
   "cell_type": "code",
   "execution_count": 4,
   "id": "ede6c1a3-3ad2-4487-8a11-b0a435e70bb9",
   "metadata": {},
   "outputs": [],
   "source": [
    "# Load environment variables from .env file\n",
    "load_dotenv()\n",
    "\n",
    "key_file_name = os.getenv('KEY_FILE_NAME')\n",
    "folder_id = os.getenv('MY_FOLDER_ID')"
   ]
  },
  {
   "cell_type": "code",
   "execution_count": 5,
   "id": "d6651e11-537f-471a-9f8d-b36cb327ace1",
   "metadata": {},
   "outputs": [],
   "source": [
    "# It controls the access of the application. Currently it allows read and write both\n",
    "scope = ['https://www.googleapis.com/auth/drive.readonly']\n",
    "\n",
    "current_directory = os.getcwd()\n",
    "service_account_json_key = os.path.join(current_directory, key_file_name)\n",
    "\n",
    "credentials = service_account.Credentials.from_service_account_file(\n",
    "                              filename=service_account_json_key, \n",
    "                              scopes=scope)\n",
    "\n",
    "service = build('drive', 'v3', credentials=credentials)"
   ]
  },
  {
   "cell_type": "code",
   "execution_count": 6,
   "id": "15b6c157-07bf-4c3c-923e-cc5bc1be0c91",
   "metadata": {},
   "outputs": [],
   "source": [
    "def get_image_dimensions(image_path):\n",
    "    # Open the image and get its dimensions\n",
    "    with Image.open(image_path) as img:\n",
    "        return img.size"
   ]
  },
  {
   "cell_type": "code",
   "execution_count": null,
   "id": "34d14d33-0ab4-4e20-a3a3-65aa7c4737a6",
   "metadata": {},
   "outputs": [],
   "source": [
    "page_token = None\n",
    "\n",
    "# Google drive can serve upto 1000 files in one request, page solves this issue by accessing the next in the order\n",
    "while True:\n",
    "    results = service.files().list(\n",
    "        pageSize=1000,  \n",
    "        fields=\"nextPageToken, files(id, name)\",\n",
    "        q=f\"'{folder_id}' in parents\",\n",
    "        pageToken=page_token\n",
    "    ).execute()\n",
    "\n",
    "    files = results.get('files', [])\n",
    "    \n",
    "    if not files:\n",
    "        print(f'No more files found in folder with ID: {folder_id}')\n",
    "        break\n",
    "\n",
    "    # Print the name of files in the folder\n",
    "    for file in files:\n",
    "        file_id = file['id']\n",
    "        file_name = file['name']\n",
    "        request = service.files().get_media(fileId=file_id)\n",
    "        fh = open(file_name, 'wb')\n",
    "        media_request = request.execute()\n",
    "        fh.write(media_request)\n",
    "        fh.close()\n",
    "        dimensions = get_image_dimensions(file_name)\n",
    "        print(f\"Image: {file_name}, Dimensions: {dimensions}\")\n",
    "\n",
    "    \n",
    "    # Get the next page token\n",
    "    page_token = results.get('nextPageToken')\n",
    "\n",
    "    if not page_token:\n",
    "        break"
   ]
  }
 ],
 "metadata": {
  "kernelspec": {
   "display_name": "Python 3 (ipykernel)",
   "language": "python",
   "name": "python3"
  },
  "language_info": {
   "codemirror_mode": {
    "name": "ipython",
    "version": 3
   },
   "file_extension": ".py",
   "mimetype": "text/x-python",
   "name": "python",
   "nbconvert_exporter": "python",
   "pygments_lexer": "ipython3",
   "version": "3.10.12"
  }
 },
 "nbformat": 4,
 "nbformat_minor": 5
}
