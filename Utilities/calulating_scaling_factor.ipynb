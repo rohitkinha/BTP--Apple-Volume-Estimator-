{
 "cells": [
  {
   "cell_type": "code",
   "execution_count": 2,
   "metadata": {},
   "outputs": [
    {
     "name": "stdout",
     "output_type": "stream",
     "text": [
      "Average Scaling Factor: 0.6198153660113525\n"
     ]
    }
   ],
   "source": [
    "import pandas as pd\n",
    "\n",
    "# Read the datasets\n",
    "true_scaled_df = pd.read_csv(\"../Datascaled_predicted_volume.csv\")\n",
    "predicted_df = pd.read_csv(\"../Datapredicted_volume.csv\")\n",
    "\n",
    "# Merge the datasets based on row indices\n",
    "merged_df = pd.merge(true_scaled_df, predicted_df, left_index=True, right_index=True)\n",
    "\n",
    "# Calculate the scaling factor for each apple\n",
    "merged_df['scaling_factor'] = merged_df['scaled_predicted_volume'] / merged_df['predicted_volume']\n",
    "\n",
    "# Calculate the average scaling factor\n",
    "average_scaling_factor = merged_df['scaling_factor'].mean()\n",
    "\n",
    "# Print the average scaling factor\n",
    "print(\"Average Scaling Factor:\", average_scaling_factor)"
   ]
  }
 ],
 "metadata": {
  "kernelspec": {
   "display_name": "Python 3",
   "language": "python",
   "name": "python3"
  },
  "language_info": {
   "codemirror_mode": {
    "name": "ipython",
    "version": 3
   },
   "file_extension": ".py",
   "mimetype": "text/x-python",
   "name": "python",
   "nbconvert_exporter": "python",
   "pygments_lexer": "ipython3",
   "version": "3.12.1"
  }
 },
 "nbformat": 4,
 "nbformat_minor": 2
}
