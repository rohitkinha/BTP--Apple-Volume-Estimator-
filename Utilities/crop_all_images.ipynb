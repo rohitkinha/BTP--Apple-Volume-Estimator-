{
 "cells": [
  {
   "cell_type": "code",
   "execution_count": 2,
   "id": "6afd046e-a086-4c50-8bd8-86a9e13e2ea6",
   "metadata": {},
   "outputs": [
    {
     "name": "stdout",
     "output_type": "stream",
     "text": [
      "Cropping completed and images saved to ../Dataset_Cropped/\n"
     ]
    }
   ],
   "source": [
    "import os\n",
    "import cv2\n",
    "\n",
    "def crop_image(image, percent):\n",
    "    height, width = image.shape[:2]\n",
    "    crop_height = int(height * percent)\n",
    "    crop_width = int(width * percent)\n",
    "    cropped_image = image[crop_height:height-crop_height, crop_width:width-crop_width]\n",
    "    return cropped_image\n",
    "\n",
    "\n",
    "input_dir = '../Dataset/'\n",
    "output_dir = '../Dataset_Cropped/'\n",
    "\n",
    "# Create output directory if it doesn't exist\n",
    "if not os.path.exists(output_dir):\n",
    "    os.makedirs(output_dir)\n",
    "\n",
    "# Iterate over files in the input directory\n",
    "for filename in os.listdir(input_dir):\n",
    "    if filename.endswith('.jpg') or filename.endswith('.jpeg') or filename.endswith('.png'):\n",
    "        image_path = os.path.join(input_dir, filename)\n",
    "        image = cv2.imread(image_path)\n",
    "\n",
    "        cropped_image = crop_image(image, 0.18)\n",
    "\n",
    "        output_path = os.path.join(output_dir, filename)\n",
    "        cv2.imwrite(output_path, cropped_image)\n",
    "\n",
    "print(\"Cropping completed and images saved to\", output_dir)\n"
   ]
  }
 ],
 "metadata": {
  "kernelspec": {
   "display_name": "Python 3 (ipykernel)",
   "language": "python",
   "name": "python3"
  },
  "language_info": {
   "codemirror_mode": {
    "name": "ipython",
    "version": 3
   },
   "file_extension": ".py",
   "mimetype": "text/x-python",
   "name": "python",
   "nbconvert_exporter": "python",
   "pygments_lexer": "ipython3",
   "version": "3.10.12"
  }
 },
 "nbformat": 4,
 "nbformat_minor": 5
}
