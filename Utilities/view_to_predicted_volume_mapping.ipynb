{
 "cells": [
  {
   "cell_type": "code",
   "execution_count": 9,
   "metadata": {},
   "outputs": [],
   "source": [
    "import pandas as pd\n",
    "\n",
    "predicted_df = pd.read_csv(\"../Data/predicted_volume_per_view.csv\")\n",
    "view_df = pd.read_csv(\"../Data/apple_view.csv\")\n",
    "merged_df = predicted_df.merge(view_df, on=\"apple_label\")\n",
    "merged_df_filtered = merged_df[merged_df['apple_label'].apply(lambda x: int(x.split('.')[0][:-1]) <= 100)]\n",
    "merged_df_filtered.to_csv(\"../Data/predicted_with_view.csv\", index=False)"
   ]
  },
  {
   "cell_type": "code",
   "execution_count": 10,
   "metadata": {},
   "outputs": [
    {
     "name": "stdout",
     "output_type": "stream",
     "text": [
      "[1 4]\n"
     ]
    }
   ],
   "source": [
    "df = pd.read_csv(\"../Data/predicted_with_view.csv\")\n",
    "df['apple_integer'] = df['apple_label'].str.extract(r'(\\d+)').astype(int)\n",
    "invalid_apples = df.groupby('apple_integer').filter(lambda x: not {'s', 'b', 't'}.issubset(x['view']))\n",
    "invalid_apple_integers = invalid_apples['apple_integer'].unique()\n",
    "print(invalid_apple_integers)\n"
   ]
  }
 ],
 "metadata": {
  "kernelspec": {
   "display_name": "Python 3",
   "language": "python",
   "name": "python3"
  },
  "language_info": {
   "codemirror_mode": {
    "name": "ipython",
    "version": 3
   },
   "file_extension": ".py",
   "mimetype": "text/x-python",
   "name": "python",
   "nbconvert_exporter": "python",
   "pygments_lexer": "ipython3",
   "version": "3.12.1"
  }
 },
 "nbformat": 4,
 "nbformat_minor": 2
}
