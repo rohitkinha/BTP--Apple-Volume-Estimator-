{
 "cells": [
  {
   "cell_type": "code",
   "execution_count": null,
   "id": "bb6b6c69-868e-40d8-8584-76396cacab26",
   "metadata": {},
   "outputs": [],
   "source": [
    "# Calculated the volume on the basis of eccentricity of fitted ellipse"
   ]
  },
  {
   "cell_type": "code",
   "execution_count": 26,
   "id": "66c329e2-cf4d-4c1b-aa5a-ef87df954553",
   "metadata": {},
   "outputs": [],
   "source": [
    "import pandas as pd\n",
    "import math\n",
    "import re\n",
    "\n",
    "df = pd.read_csv('../Data/fitted_ellipse_parameter.csv')\n",
    "\n",
    "def calculate_volume_in_small_e(semi_major_axis, semi_minor_axis):\n",
    "    a = semi_major_axis\n",
    "    b = semi_minor_axis\n",
    "    radius = (a + b)/2\n",
    "    return (4/3) * math.pi * (radius ** 3)\n",
    "\n",
    "def calculate_volume_in_large_e(semi_major_axis, semi_minor_axis):\n",
    "    a = semi_major_axis\n",
    "    b = semi_minor_axis\n",
    "    return (4/3) * math.pi * (a ** 2) * b\n",
    "\n",
    "def pixels_to_mm(x):\n",
    "    scale_factor = 0.083\n",
    "    return scale_factor * x\n",
    "\n",
    "def mm3_to_ml(volume_mm3):\n",
    "    volume_ml = volume_mm3 / 1000\n",
    "    return volume_ml\n",
    "\n",
    "def get_numerical_part_from_label(apple_label):\n",
    "    return re.match(r'^\\d+', apple_label).group()\n",
    "    \n",
    "def get_apple_avg_volume():\n",
    "    for key, value in apple_volume_map.items():\n",
    "        average = sum(value) / len(value)\n",
    "        apple_volume_map[key] = round(average, 2)\n",
    "    \n",
    "# 2530 px ~ 210 mm\n",
    "# scale factor 0.083\n",
    "apple_volume_map = {}\n",
    "predicted_volume = []\n",
    "for index, row in df.iterrows():\n",
    "    semi_major_axis = pixels_to_mm(row['semi_major_axis'])\n",
    "    semi_minor_axis = pixels_to_mm(row['semi_minor_axis'])\n",
    "    apple_label = row['apple_label']\n",
    "    if row['eccentricity'] <= 0.3:\n",
    "        volume = calculate_volume_in_small_e(semi_major_axis, semi_minor_axis)\n",
    "    else:\n",
    "        volume = calculate_volume_in_large_e(semi_major_axis, semi_minor_axis)\n",
    "\n",
    "    volume = mm3_to_ml(volume)\n",
    "    volume = round(volume, 2)\n",
    "    apple_volume_map.setdefault(get_numerical_part_from_label(apple_label), []).append(volume)\n",
    "    predicted_volume_instance = [row['apple_label'],volume]\n",
    "    predicted_volume.append(predicted_volume_instance)\n",
    "    \n",
    "get_apple_avg_volume()\n",
    "column_names = ['apple_label', 'predicted_volume']\n",
    "df = pd.DataFrame(predicted_volume, columns=column_names)\n",
    "df.to_csv('../Data/predicted_volume_per_view.csv', index=False)\n",
    "apple_volume_list = [[k, v] for k, v in apple_volume_map.items()]\n",
    "df = pd.DataFrame(apple_volume_list, columns=column_names)\n",
    "df.to_csv('../Data/predicted_volume.csv', index=False)"
   ]
  }
 ],
 "metadata": {
  "kernelspec": {
   "display_name": "Python 3 (ipykernel)",
   "language": "python",
   "name": "python3"
  },
  "language_info": {
   "codemirror_mode": {
    "name": "ipython",
    "version": 3
   },
   "file_extension": ".py",
   "mimetype": "text/x-python",
   "name": "python",
   "nbconvert_exporter": "python",
   "pygments_lexer": "ipython3",
   "version": "3.10.12"
  }
 },
 "nbformat": 4,
 "nbformat_minor": 5
}
