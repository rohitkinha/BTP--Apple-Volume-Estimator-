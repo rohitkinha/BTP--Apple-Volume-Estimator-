{
 "cells": [
  {
   "cell_type": "code",
   "execution_count": null,
   "metadata": {},
   "outputs": [],
   "source": [
    "# This code run over all files present in google colab folder and finds the fitted ellipse parameter and stores in csv file"
   ]
  },
  {
   "cell_type": "code",
   "execution_count": null,
   "metadata": {
    "id": "CicAKgql6RRo"
   },
   "outputs": [],
   "source": [
    "!pip install -U -q PyDrive"
   ]
  },
  {
   "cell_type": "code",
   "execution_count": null,
   "metadata": {
    "colab": {
     "base_uri": "https://localhost:8080/"
    },
    "id": "RCtzdq_76ekD",
    "outputId": "2b6fb5f4-6a48-4f48-cca5-df0ae793de9b"
   },
   "outputs": [
    {
     "name": "stdout",
     "output_type": "stream",
     "text": [
      "Drive already mounted at /content/drive; to attempt to forcibly remount, call drive.mount(\"/content/drive\", force_remount=True).\n"
     ]
    }
   ],
   "source": [
    "from google.colab import drive\n",
    "drive.mount('/content/drive')\n",
    "\n"
   ]
  },
  {
   "cell_type": "code",
   "execution_count": null,
   "metadata": {},
   "outputs": [],
   "source": [
    "import cv2\n",
    "import numpy as np\n",
    "import matplotlib.pyplot as plt\n",
    "import os\n",
    "from matplotlib.image import imread\n",
    "from matplotlib.patches import Ellipse\n",
    "import pandas as pd\n",
    "import glob\n",
    "def print_image(pixel_intensity, cmap, title):\n",
    "    plt.imshow(pixel_intensity, cmap=cmap)\n",
    "    plt.axis('off')\n",
    "    plt.title(title)\n",
    "    plt.show()\n",
    "\n",
    "def perform_dilation(edges, no_of_interation):\n",
    "    kernel = np.ones((4,4), np.uint8)\n",
    "    return cv2.dilate(edges, kernel, iterations=1)\n",
    "\n",
    "def fit_ellipse(max_contour):\n",
    "    ellipse = cv2.fitEllipse(max_contour)\n",
    "    xc, yc = ellipse[0]\n",
    "    a = max(ellipse[1][0] / 2, ellipse[1][1] / 2)\n",
    "    b = min(ellipse[1][1] / 2, ellipse[1][0] / 2)\n",
    "    theta = np.deg2rad(ellipse[2])\n",
    "\n",
    "    plt.imshow(cv2.cvtColor(image, cv2.COLOR_BGR2RGB))\n",
    "    return a, b, xc, yc, theta\n",
    "\n",
    "def find_contours(edges):\n",
    "    _, binary_edges = cv2.threshold(edges, 0, 255, cv2.THRESH_BINARY)\n",
    "    contours, _ = cv2.findContours(binary_edges, cv2.RETR_EXTERNAL, cv2.CHAIN_APPROX_NONE)\n",
    "    contour = max(contours, key=cv2.contourArea)\n",
    "    return contour\n",
    "\n",
    "def find_approx_contours(contour):\n",
    "    epsilon = 0.00001 * cv2.arcLength(contour, True)\n",
    "    approx = cv2.approxPolyDP(contour, epsilon, True)\n",
    "    return approx\n",
    "\n",
    "def print_apple_image_with_boundary_points(image, boundary_points, apple_label):\n",
    "    plt.imshow(cv2.cvtColor(image, cv2.COLOR_BGR2RGB), origin='lower')\n",
    "    plt.scatter(*zip(*boundary_points), color='green', s=1)\n",
    "    plt.gca().invert_yaxis()  # Invert y-axis to match image coordinates\n",
    "    plt.gca().set_aspect('equal', adjustable='box')  # Set aspect ratio to be equal\n",
    "    plt.xlabel('X-coordinate')\n",
    "    plt.ylabel('Y-coordinate')\n",
    "    plt.title(f'Boundary Points of the Apple {apple_label}')\n",
    "    plt.show()\n",
    "\n",
    "def yellow_to_red_pixels(image):\n",
    "    lower_yellow = np.array([100, 100, 0])  # Lower bound for spread yellow range (decreased)\n",
    "    upper_yellow = np.array([255, 255, 150])  # Upper bound for spread yellow range (increased)\n",
    "    lower_red = np.array([100, 0, 0])  # Lower bound for moderate/less red range\n",
    "    upper_red = np.array([255, 50, 50])  # Upper bound for moderate/less red range\n",
    "    lower_white = np.array([200, 200, 200])  # Lower bound for low/moderate white range (increased)\n",
    "\n",
    "    yellow_mask = np.all((image >= lower_yellow) & (image <= upper_yellow), axis=-1)\n",
    "    red_mask = np.all((image >= lower_red) & (image <= upper_red), axis=-1)\n",
    "    white_mask = np.all(image >= lower_white, axis=-1)\n",
    "\n",
    "    # Convert yellow pixels to more red\n",
    "    image_copy = np.copy(image)\n",
    "    image_copy[yellow_mask] = [255, 0, 0]  # More red\n",
    "\n",
    "    # Convert moderate/less red pixels to high red\n",
    "    image_copy[red_mask] = [255, 0, 0]  # High red\n",
    "\n",
    "    # Convert low/moderate white pixels to complete white\n",
    "    image_copy[white_mask] = [255, 255, 255]  # Complete white\n",
    "\n",
    "    # plt.imshow(image_copy)\n",
    "    # plt.axis('off')\n",
    "    # plt.show()\n",
    "    return image_copy\n",
    "\n",
    "# Function to find the boundary points of the apple in the image\n",
    "def find_countour_and_boundary_points(image_path):\n",
    "    gray = cv2.cvtColor(image, cv2.COLOR_BGR2GRAY)\n",
    "\n",
    "    # Apply Gaussian blur to smooth the image with guassian kernal of 11*11, higher the kernal size that blurring effect will be more pronounced\n",
    "    blurred = cv2.GaussianBlur(gray, (13, 13), 0)\n",
    "    # print_image(blurred, 'gray', 'Blurred Image')\n",
    "\n",
    "    # Perform Canny edge detection\n",
    "    edges = cv2.Canny(blurred, 50, 150)\n",
    "    # print_image(edges, 'gray', 'Canny Edges')\n",
    "\n",
    "    # kernal for dilation\n",
    "    kernel = np.ones((3,3), np.uint8)\n",
    "    edges = perform_dilation(edges, 1)\n",
    "    # print_image(edges, 'gray', 'Canny Edges After Dilation')\n",
    "\n",
    "    contours = find_contours(edges)\n",
    "    approx = find_approx_contours(contours)\n",
    "    # Convert the boundary points to a list of tuples\n",
    "    boundary_points = [tuple(point[0]) for point in approx]\n",
    "    return contours, boundary_points\n",
    "\n",
    "def get_other_ellipse_parameters(a, b, xc, yc, theta):\n",
    "    # Calculate area of the ellipse\n",
    "    area = np.pi * a * b\n",
    "    # Calculate perimeter of the ellipse (approximation)\n",
    "    perimeter = np.pi * (3 * (a + b) - np.sqrt((3 * a + b) * (a + 3 * b)))\n",
    "    # Calculate eccentricity of the ellipse\n",
    "    eccentricity = np.sqrt(1 - (b**2 / a**2))\n",
    "    return area, perimeter, eccentricity\n",
    "\n",
    "ellipse_parameters = []\n",
    "# Define the directory path without escaping the spaces\n",
    "directory = '/content/drive/My Drive/Apple_Volume_Estimation_Images_Cropped'\n",
    "# Use glob to find all files in the directory\n",
    "files = glob.glob(os.path.join(directory, '*'))\n",
    "# Iterate over the files\n",
    "count = 0\n",
    "for file in files:\n",
    "    image_path = file\n",
    "    image = imread(image_path)\n",
    "    filename = image_path[63:]\n",
    "    image = yellow_to_red_pixels(image)\n",
    "    contours, boundary_points = find_countour_and_boundary_points(image_path)\n",
    "    a, b, xc, yc, theta = fit_ellipse(contours)\n",
    "    area, perimeter, eccentricity = get_other_ellipse_parameters(a, b, xc, yc, theta)\n",
    "    ellipse_instance_parameter = [filename, a, b, xc, yc, theta, area, perimeter, eccentricity]\n",
    "    print(ellipse_instance_parameter)\n",
    "    ellipse_parameters.append(ellipse_instance_parameter)\n",
    "    image = cv2.imread(image_path)\n",
    "    count = count + 1\n",
    "    \n",
    "    ellipse_parameters = sorted(ellipse_parameters, key=lambda x: x[0])\n",
    "    df = pd.DataFrame(ellipse_parameters, columns=['apple_label', 'semi_major_axis', 'semi_minor_axis', 'xc', 'yc', 'theta', 'area', 'perimeter', 'eccentricity'])\n",
    "    df.to_csv('fitted_ellipse_parameter.csv', index=False, float_format='%.2f')\n",
    "    print(count)\n"
   ]
  }
 ],
 "metadata": {
  "colab": {
   "provenance": []
  },
  "kernelspec": {
   "display_name": "Python 3 (ipykernel)",
   "language": "python",
   "name": "python3"
  },
  "language_info": {
   "codemirror_mode": {
    "name": "ipython",
    "version": 3
   },
   "file_extension": ".py",
   "mimetype": "text/x-python",
   "name": "python",
   "nbconvert_exporter": "python",
   "pygments_lexer": "ipython3",
   "version": "3.10.12"
  }
 },
 "nbformat": 4,
 "nbformat_minor": 4
}
